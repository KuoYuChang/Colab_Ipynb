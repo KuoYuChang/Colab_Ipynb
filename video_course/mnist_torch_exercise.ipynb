{
 "cells": [
  {
   "cell_type": "markdown",
   "id": "9a42dc5e-ec72-436f-8fd8-21e2d3548abe",
   "metadata": {},
   "source": [
    "## MNIST Dataset Classification"
   ]
  },
  {
   "cell_type": "code",
   "execution_count": null,
   "id": "17dd21c0-9310-4c77-98bf-aa95779655d3",
   "metadata": {},
   "outputs": [],
   "source": [
    "import argparse\n",
    "import torch\n",
    "import torch.nn as nn\n",
    "import torch.nn.functional as F\n",
    "import torch.optim as optim\n",
    "from torchvision import datasets, transforms\n",
    "from torch.optim.lr_scheduler import StepLR"
   ]
  },
  {
   "cell_type": "code",
   "execution_count": null,
   "id": "c9574ff1-94f2-405a-a4ba-578839d6734a",
   "metadata": {},
   "outputs": [],
   "source": [
    "from torchsummary import summary"
   ]
  },
  {
   "cell_type": "code",
   "execution_count": null,
   "id": "f4a268f5-9f5a-492f-bf37-6f26998192ba",
   "metadata": {},
   "outputs": [],
   "source": [
    "!git clone https://github.com/KuoYuChang/MLDL_video_course.git\n",
    "%cd MLDL_video_course"
   ]
  },
  {
   "cell_type": "markdown",
   "id": "80df46ed-237f-42a6-beac-bde1abb1c8b9",
   "metadata": {},
   "source": [
    "#### load dataset\n",
    "#### via torchvision"
   ]
  },
  {
   "cell_type": "code",
   "execution_count": null,
   "id": "d11ab8d0-cc03-49bf-b646-e9d004608f33",
   "metadata": {},
   "outputs": [],
   "source": [
    "# define data transform\n",
    "transform=transforms.Compose([\n",
    "        transforms.ToTensor(),\n",
    "        transforms.Normalize((0.1307,), (0.3081,))\n",
    "        ])"
   ]
  },
  {
   "cell_type": "code",
   "execution_count": null,
   "id": "a0e917a1-ac68-49b7-8d53-f7ac4eb2cf34",
   "metadata": {},
   "outputs": [],
   "source": [
    "train_set = datasets.MNIST('../data', train=True, download=True,\n",
    "                       transform=transform)\n",
    "test_set = datasets.MNIST('../data', train=False,\n",
    "                   transform=transform)"
   ]
  },
  {
   "cell_type": "code",
   "execution_count": null,
   "id": "48cb81f1-0bad-4fe9-a5e5-3de3ee585f1b",
   "metadata": {},
   "outputs": [],
   "source": [
    "batch_size = 32\n",
    "test_batch_size = 1\n",
    "\n",
    "train_kwargs = {'batch_size': batch_size}\n",
    "test_kwargs = {'batch_size': test_batch_size}\n",
    "\n",
    "train_loader = torch.utils.data.DataLoader(train_set,**train_kwargs)\n",
    "test_loader = torch.utils.data.DataLoader(test_set, **test_kwargs)"
   ]
  },
  {
   "cell_type": "code",
   "execution_count": null,
   "id": "3ae8c479-8a7f-4032-8ce5-50901c7fbd59",
   "metadata": {},
   "outputs": [],
   "source": []
  },
  {
   "cell_type": "code",
   "execution_count": null,
   "id": "f4088ff2-b22a-4c01-94cb-8321c7eb3351",
   "metadata": {},
   "outputs": [],
   "source": [
    "dataiter = iter(train_loader)\n",
    "data_i, label_i = next(dataiter)"
   ]
  },
  {
   "cell_type": "code",
   "execution_count": null,
   "id": "204f46f9-d7b1-4949-b6be-e2045251d5da",
   "metadata": {},
   "outputs": [],
   "source": [
    "classes = ['0', '1', '2', '3', '4', '5', '6', '7', '8', '9']"
   ]
  },
  {
   "cell_type": "code",
   "execution_count": null,
   "id": "6129a2d0-ac53-4707-a553-1dc69499485b",
   "metadata": {},
   "outputs": [],
   "source": [
    "from utils.plot_tools import plot_images"
   ]
  },
  {
   "cell_type": "code",
   "execution_count": null,
   "id": "d7c6f133-ff0d-4c1d-bc82-fbb599754edf",
   "metadata": {},
   "outputs": [],
   "source": [
    "plot_images(data_i, label_i, classes, normalize = True)"
   ]
  },
  {
   "cell_type": "markdown",
   "id": "eba2f1a1-db80-49dd-9db2-b47e62447909",
   "metadata": {},
   "source": [
    "### define model"
   ]
  },
  {
   "cell_type": "code",
   "execution_count": null,
   "id": "40752844-2030-4509-a82a-34f8998183a3",
   "metadata": {},
   "outputs": [],
   "source": [
    "class Net(nn.Module):\n",
    "    def __init__(self, input_shape, lr=1.0, gamma=0.7):\n",
    "        super(Net, self).__init__()\n",
    "\n",
    "        flat_len = input_shape[0] * input_shape[1]\n",
    "        \n",
    "        self.fc1 = nn.Linear(flat_len, 128)\n",
    "        self.fc2 = nn.Linear(128, 10)\n",
    "\n",
    "        self.nll_loss = nn.NLLLoss()\n",
    "\n",
    "        # optimizer, scheduler\n",
    "        self.optimizer = optim.Adam(self.parameters(), lr=lr)\n",
    "        self.scheduler = StepLR(self.optimizer, step_size=1, gamma=gamma)\n",
    "\n",
    "    def forward(self, x):\n",
    "        \n",
    "        x = torch.flatten(x, start_dim=1)\n",
    "        x = self.fc1(x)\n",
    "        x = F.relu(x)\n",
    "        x = self.fc2(x)\n",
    "        output = F.log_softmax(x, dim=1)\n",
    "        return output\n",
    "\n",
    "    def train_step(self, inputs, labels):\n",
    "        # input should already be in device\n",
    "        \n",
    "        # output\n",
    "        output = model(inputs)\n",
    "        \n",
    "\n",
    "        # loss\n",
    "        loss = self.nll_loss(output, labels)\n",
    "        loss.backward()\n",
    "        \n",
    "\n",
    "        # optimize\n",
    "        self.optimizer.step()\n",
    "\n",
    "        return loss.item()"
   ]
  },
  {
   "cell_type": "code",
   "execution_count": null,
   "id": "bbf4a1b3-5ac7-4eb2-841e-84134d970558",
   "metadata": {},
   "outputs": [],
   "source": [
    "lr = 0.001\n",
    "gamma = 0.9\n",
    "\n",
    "input_shape = [28, 28]\n",
    "\n",
    "device = torch.device(\"cuda\")\n",
    "log_interval = 500\n",
    "\n",
    "model = Net(input_shape, lr, gamma)\n",
    "model.to(device)"
   ]
  },
  {
   "cell_type": "code",
   "execution_count": null,
   "id": "f11043da-ae31-40a2-9ba4-01c27b604d3b",
   "metadata": {},
   "outputs": [],
   "source": [
    "print(summary(model, input_size=(28,28)))"
   ]
  },
  {
   "cell_type": "markdown",
   "id": "9e36ba5e-f7a5-481d-ade8-67e5fde20b75",
   "metadata": {},
   "source": [
    "### training"
   ]
  },
  {
   "cell_type": "code",
   "execution_count": null,
   "id": "d9ffc93b-dd0c-4a3c-b6e3-42c03ef5e013",
   "metadata": {
    "scrolled": true
   },
   "outputs": [],
   "source": [
    "num_epoch = 6\n",
    "model.train()\n",
    "\n",
    "for epoch in range(1, num_epoch + 1):\n",
    "    for batch_idx, (data, target) in enumerate(train_loader):\n",
    "        data, target = data.to(device), target.to(device)\n",
    "        model.optimizer.zero_grad()\n",
    "        loss = model.train_step(data, target)\n",
    "        if batch_idx % log_interval == 0:\n",
    "            print('Train Epoch: {} [{}/{} ({:.0f}%)]\\tLoss: {:.6f}'.format(\n",
    "                epoch, batch_idx * len(data), len(train_loader.dataset),\n",
    "                100. * batch_idx / len(train_loader), loss))\n",
    "\n",
    "    model.scheduler.step()"
   ]
  },
  {
   "cell_type": "markdown",
   "id": "386dcf67-4280-4b71-80bc-1869ebede87d",
   "metadata": {},
   "source": [
    "### testing"
   ]
  },
  {
   "cell_type": "code",
   "execution_count": null,
   "id": "f8d6cde0-7307-454b-a167-6bde7e0ff137",
   "metadata": {},
   "outputs": [],
   "source": [
    "model.eval()\n",
    "test_loss = 0\n",
    "correct = 0\n",
    "with torch.no_grad():\n",
    "    for data, target in test_loader:\n",
    "        data, target = data.to(device), target.to(device)\n",
    "        output = model(data)\n",
    "        test_loss += F.nll_loss(output, target, reduction='sum').item()  # sum up batch loss\n",
    "        pred = output.argmax(dim=1, keepdim=True)  # get the index of the max log-probability\n",
    "        correct += pred.eq(target.view_as(pred)).sum().item()\n",
    "\n",
    "test_loss /= len(test_loader.dataset)\n",
    "\n",
    "print('\\nTest set: Average loss: {:.4f}, Accuracy: {}/{} ({:.0f}%)\\n'.format(\n",
    "    test_loss, correct, len(test_loader.dataset),\n",
    "    100. * correct / len(test_loader.dataset)))"
   ]
  },
  {
   "cell_type": "code",
   "execution_count": null,
   "id": "e4f36905-adf3-4a97-9d66-655ed9a2cfea",
   "metadata": {},
   "outputs": [],
   "source": [
    "## give an image input, show predict result"
   ]
  },
  {
   "cell_type": "code",
   "execution_count": null,
   "id": "5903a26f-2322-40b5-9279-fe53b35db60c",
   "metadata": {},
   "outputs": [],
   "source": []
  },
  {
   "cell_type": "code",
   "execution_count": null,
   "id": "dec1ef5b-e97b-4203-b9e8-3864e55231a6",
   "metadata": {},
   "outputs": [],
   "source": []
  },
  {
   "cell_type": "markdown",
   "id": "297ac388-22af-4810-956b-c80e567fb341",
   "metadata": {},
   "source": [
    "## references\n",
    "\n",
    "### * torch official example code\n",
    "### https://github.com/pytorch/examples/blob/main/mnist/main.py"
   ]
  },
  {
   "cell_type": "code",
   "execution_count": null,
   "id": "2dc54ebd-3767-4e6f-9ff7-71acaa44a98f",
   "metadata": {},
   "outputs": [],
   "source": []
  }
 ],
 "metadata": {
  "kernelspec": {
   "display_name": "Python 3 (ipykernel)",
   "language": "python",
   "name": "python3"
  },
  "language_info": {
   "codemirror_mode": {
    "name": "ipython",
    "version": 3
   },
   "file_extension": ".py",
   "mimetype": "text/x-python",
   "name": "python",
   "nbconvert_exporter": "python",
   "pygments_lexer": "ipython3",
   "version": "3.10.16"
  }
 },
 "nbformat": 4,
 "nbformat_minor": 5
}
