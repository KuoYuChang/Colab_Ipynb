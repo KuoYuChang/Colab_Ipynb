{
 "cells": [
  {
   "cell_type": "code",
   "execution_count": null,
   "id": "10c9d345-6b0c-4da2-bbba-39d640958d02",
   "metadata": {},
   "outputs": [],
   "source": [
    "import torch\n",
    "import numpy as np"
   ]
  },
  {
   "cell_type": "markdown",
   "id": "aa1ba0e0-55f9-4fba-9855-57349480417a",
   "metadata": {},
   "source": [
    "### implement first\n",
    "### then separate info, answer\n",
    "### only comment major ideas, each comment a block"
   ]
  },
  {
   "cell_type": "code",
   "execution_count": null,
   "id": "e266f5e1-19d0-4c04-81e5-e35981029051",
   "metadata": {},
   "outputs": [],
   "source": []
  },
  {
   "cell_type": "code",
   "execution_count": null,
   "id": "353d6542-7d8b-4de2-80ce-36281bf52ccf",
   "metadata": {},
   "outputs": [],
   "source": [
    "class CoPrime(torch.nn.Module):\n",
    "    def __init__(self):\n",
    "        super(CoPrime, self).__init__()\n",
    "\n",
    "        # define layer\n",
    "        self.coef_prod = torch.nn.Linear(1, 10)\n",
    "\n",
    "        # set weight and bias\n",
    "        weight_t = torch.tensor([ [1], [2], [3], [4], [5], [6], [7], [8], [9], [10] ])\n",
    "        bias_t = torch.tensor([0, 0, 0, 0, 0, 0, 0, 0, 0, 0])\n",
    "        self.coef_prod.weight = torch.nn.Parameter(weight_t.float())\n",
    "        self.coef_prod.bias = torch.nn.Parameter(bias_t.float())\n",
    "        self.relu = torch.nn.ReLU()\n",
    "\n",
    "        self.sigmoid = torch.nn.Sigmoid()\n",
    "    def forward(self, x1, x2):\n",
    "\n",
    "        diff_0 = self.find_remainder(x1, x2)\n",
    "\n",
    "        diff_1 = self.find_remainder(x2, diff_0)\n",
    "\n",
    "        diff_2 = self.find_remainder(diff_0, diff_1)\n",
    "\n",
    "        temp_final = 0.5\n",
    "\n",
    "        \n",
    "        return temp_final\n",
    "\n",
    "        \n",
    "    def find_remainder(self, x, y):\n",
    "        \n",
    "\n",
    "\n",
    "        return min_pos"
   ]
  },
  {
   "cell_type": "code",
   "execution_count": null,
   "id": "71f08305-e47d-47e0-a354-028465a11cd8",
   "metadata": {},
   "outputs": [],
   "source": [
    "coPrime_ml = CoPrime()"
   ]
  },
  {
   "cell_type": "code",
   "execution_count": null,
   "id": "6ac5b3b4-83ee-41e2-8294-1d2a20966e17",
   "metadata": {},
   "outputs": [],
   "source": [
    "print(coPrime_ml.coef_prod.weight)\n",
    "print(coPrime_ml.coef_prod.bias)"
   ]
  },
  {
   "cell_type": "code",
   "execution_count": null,
   "id": "c8244818-5ecc-45bc-ba80-79ff0b14ad49",
   "metadata": {},
   "outputs": [],
   "source": [
    "x1 = torch.tensor([7]).float()\n",
    "x2 = torch.tensor([2]).float()\n",
    "print(x1, x2, \", result: \",  coPrime_ml(x1, x2))\n",
    "coPrime_ml(x1, x2)"
   ]
  },
  {
   "cell_type": "code",
   "execution_count": null,
   "id": "9afc1092-af9c-4cbd-9f3f-128dddf1bf67",
   "metadata": {},
   "outputs": [],
   "source": [
    "for i in range(2, 11):\n",
    "    for j in range(2, i):\n",
    "        x1 = torch.tensor([i]).float()\n",
    "        x2 = torch.tensor([j]).float()\n",
    "        print(x1, x2, \", result: \",  coPrime_ml(x1, x2))"
   ]
  },
  {
   "cell_type": "code",
   "execution_count": null,
   "id": "d8380a23-5388-4b4b-b2d7-0a9fe5884672",
   "metadata": {},
   "outputs": [],
   "source": []
  },
  {
   "cell_type": "code",
   "execution_count": null,
   "id": "0d4f479e-3f85-4e56-b7d1-a70f78798ab5",
   "metadata": {},
   "outputs": [],
   "source": []
  }
 ],
 "metadata": {
  "kernelspec": {
   "display_name": "Python 3 (ipykernel)",
   "language": "python",
   "name": "python3"
  },
  "language_info": {
   "codemirror_mode": {
    "name": "ipython",
    "version": 3
   },
   "file_extension": ".py",
   "mimetype": "text/x-python",
   "name": "python",
   "nbconvert_exporter": "python",
   "pygments_lexer": "ipython3",
   "version": "3.10.16"
  }
 },
 "nbformat": 4,
 "nbformat_minor": 5
}
