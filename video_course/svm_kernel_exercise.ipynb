{
 "cells": [
  {
   "cell_type": "code",
   "execution_count": null,
   "id": "449d0d55-c217-424d-abc9-bbbda61cbf53",
   "metadata": {},
   "outputs": [],
   "source": [
    "%load_ext autoreload\n",
    "%autoreload 2"
   ]
  },
  {
   "cell_type": "code",
   "execution_count": null,
   "id": "a790fe46-f51b-4ee4-a958-a49510f20dc7",
   "metadata": {},
   "outputs": [],
   "source": [
    "import numpy as np\n",
    "import torch\n",
    "import torch.nn as nn\n",
    "from torch.utils.data import Dataset\n",
    "from torch.utils.data import DataLoader\n",
    "import torch.optim as optim\n",
    "from sklearn.datasets import make_blobs"
   ]
  },
  {
   "cell_type": "code",
   "execution_count": null,
   "id": "5ecd237f-4c22-4b4c-99ef-16ac616542f2",
   "metadata": {},
   "outputs": [],
   "source": [
    "from torchsummary import summary\n",
    "import matplotlib.pyplot as plt"
   ]
  },
  {
   "cell_type": "code",
   "execution_count": null,
   "id": "9da5d5ce-3837-4495-a4ff-58c9309ebdb8",
   "metadata": {},
   "outputs": [],
   "source": [
    "import seaborn as sns\n",
    "sns.set()"
   ]
  },
  {
   "cell_type": "code",
   "execution_count": null,
   "id": "a1680688-ff3e-4d7a-830e-fddb7d618278",
   "metadata": {},
   "outputs": [],
   "source": [
    "!git clone https://github.com/KuoYuChang/MLDL_video_course.git\n",
    "%cd MLDL_video_course"
   ]
  },
  {
   "cell_type": "code",
   "execution_count": null,
   "id": "dbe0728e-39e4-4777-973c-60a0d1644c23",
   "metadata": {},
   "outputs": [],
   "source": [
    "from utils.plot_tools import plot_dataset"
   ]
  },
  {
   "cell_type": "code",
   "execution_count": null,
   "id": "0eb8e16f-b7ed-42d1-b117-b0aca4798a1d",
   "metadata": {},
   "outputs": [],
   "source": []
  },
  {
   "cell_type": "markdown",
   "id": "5199c7a6-49dc-4647-b11c-431a8ba7f278",
   "metadata": {},
   "source": [
    "### non linear kernel"
   ]
  },
  {
   "cell_type": "code",
   "execution_count": null,
   "id": "6633abed-a829-4ee3-a1df-99c2813c1dde",
   "metadata": {},
   "outputs": [],
   "source": [
    "from sklearn.datasets import make_moons"
   ]
  },
  {
   "cell_type": "code",
   "execution_count": null,
   "id": "d29428cc-66e4-474e-a0a2-be52d41dbadc",
   "metadata": {},
   "outputs": [],
   "source": [
    "x, y = make_moons(50, noise=0.1)\n",
    "y[np.where(y==0)] = -1"
   ]
  },
  {
   "cell_type": "code",
   "execution_count": null,
   "id": "de8cf8e0-4964-4889-8be2-bf034be9af77",
   "metadata": {},
   "outputs": [],
   "source": [
    "x = x.astype(np.float32)\n",
    "y = y.astype(np.float32)\n",
    "plot_dataset(x, y, size=20)"
   ]
  },
  {
   "cell_type": "code",
   "execution_count": null,
   "id": "d08c972f-3e43-468f-9744-f63e6c0fc802",
   "metadata": {},
   "outputs": [],
   "source": [
    "from utils.models import SvmDual"
   ]
  },
  {
   "cell_type": "code",
   "execution_count": null,
   "id": "2767b118-2308-4194-b8c1-17c7300680bd",
   "metadata": {},
   "outputs": [],
   "source": [
    "linear_dual = SvmDual(x, y, C=1.0, rbf=True, sigma=1.0)"
   ]
  },
  {
   "cell_type": "code",
   "execution_count": null,
   "id": "d355aeec-c57d-4c7d-8960-4b15a3f44714",
   "metadata": {},
   "outputs": [],
   "source": [
    "# training\n",
    "\n",
    "num_epoch = 1000\n",
    "\n",
    "for epoch in range(num_epoch):\n",
    "    running_loss = 0.0\n",
    "\n",
    "    count = 0\n",
    "\n",
    "    epoch_loss = linear_dual.train_step()\n",
    "    running_loss += epoch_loss\n",
    "\n",
    "    count = count + 1\n",
    "        \n",
    "    if epoch % 50 == 49:    # print every 2000 mini-batches\n",
    "        #print(\"count: \", count)\n",
    "        print(f'[{epoch + 1}] loss: {running_loss / count:.3f}')\n",
    "        running_loss = 0.0\n",
    "print('Finished Training')"
   ]
  },
  {
   "cell_type": "code",
   "execution_count": null,
   "id": "7849a0d9-431b-404f-80d5-308eb999b910",
   "metadata": {},
   "outputs": [],
   "source": [
    "from utils.plot_tools import plot_model_contour"
   ]
  },
  {
   "cell_type": "code",
   "execution_count": null,
   "id": "9b270519-9001-4b68-98c2-c7af223c1e45",
   "metadata": {},
   "outputs": [],
   "source": [
    "plot_model_contour(linear_dual, x, y, x_min=-2, x_max=2, size=20)"
   ]
  },
  {
   "cell_type": "code",
   "execution_count": null,
   "id": "7b5ee9fc-f49c-4e25-8369-b9fa9c5edf8f",
   "metadata": {},
   "outputs": [],
   "source": []
  },
  {
   "cell_type": "code",
   "execution_count": null,
   "id": "3199f8c1-2e0d-43ce-9172-c9871f8b2ef6",
   "metadata": {},
   "outputs": [],
   "source": [
    "from utils.data import circle_data\n",
    "from utils.plot_tools import plot_play_data"
   ]
  },
  {
   "cell_type": "code",
   "execution_count": null,
   "id": "e2881d80-4542-41c1-b2dd-78ac59ae5419",
   "metadata": {},
   "outputs": [],
   "source": [
    "radius = 5\n",
    "num = 100\n",
    "noise = 0.001"
   ]
  },
  {
   "cell_type": "code",
   "execution_count": null,
   "id": "6a8bff6e-8936-4aca-a621-f8af94045824",
   "metadata": {},
   "outputs": [],
   "source": [
    "circle = circle_data(radius=radius, num=num, noise=noise)"
   ]
  },
  {
   "cell_type": "code",
   "execution_count": null,
   "id": "d4a28514-b8c5-4123-be05-68f911ad8e22",
   "metadata": {},
   "outputs": [],
   "source": [
    "inside_circle = circle[circle[:, 2] == 1]\n",
    "outside_circle = circle[circle[:, 2] == 0]"
   ]
  },
  {
   "cell_type": "code",
   "execution_count": null,
   "id": "a08f372e-659f-4473-ab24-ee1f8fa9c2fe",
   "metadata": {},
   "outputs": [],
   "source": [
    "plot_play_data(inside_circle, outside_circle)"
   ]
  },
  {
   "cell_type": "code",
   "execution_count": null,
   "id": "f2af891f-2b80-4683-8007-df44946cd7cb",
   "metadata": {},
   "outputs": [],
   "source": [
    "out_idx = circle[:, 2] == 0\n",
    "circle[out_idx, 2] = -1"
   ]
  },
  {
   "cell_type": "code",
   "execution_count": null,
   "id": "a5b36a07-96bd-4cf2-b526-51aac678a3ba",
   "metadata": {},
   "outputs": [],
   "source": [
    "x = circle[:, 0:2]\n",
    "y = circle[:, 2]"
   ]
  },
  {
   "cell_type": "code",
   "execution_count": null,
   "id": "176f56e6-6b3d-4529-b632-6c72ad7eb026",
   "metadata": {},
   "outputs": [],
   "source": []
  },
  {
   "cell_type": "code",
   "execution_count": null,
   "id": "5287d782-3506-447b-8965-8535f97aa051",
   "metadata": {},
   "outputs": [],
   "source": [
    "linear_dual = SvmDual(x, y, C=1.0, rbf=True, sigma=1.0)"
   ]
  },
  {
   "cell_type": "code",
   "execution_count": null,
   "id": "0c666ced-e7ed-4fbd-8d7f-b11d0bba6101",
   "metadata": {},
   "outputs": [],
   "source": [
    "# training\n",
    "\n",
    "num_epoch = 1000\n",
    "\n",
    "for epoch in range(num_epoch):\n",
    "    running_loss = 0.0\n",
    "\n",
    "    count = 0\n",
    "\n",
    "    epoch_loss = linear_dual.train_step()\n",
    "    running_loss += epoch_loss\n",
    "\n",
    "    count = count + 1\n",
    "        \n",
    "    if epoch % 50 == 49:    # print every 2000 mini-batches\n",
    "        #print(\"count: \", count)\n",
    "        print(f'[{epoch + 1}] loss: {running_loss / count:.3f}')\n",
    "        running_loss = 0.0\n",
    "print('Finished Training')"
   ]
  },
  {
   "cell_type": "code",
   "execution_count": null,
   "id": "47a910db-f91d-43e2-847f-a05c72360555",
   "metadata": {},
   "outputs": [],
   "source": [
    "plot_model_contour(linear_dual, x, y, x_min=-5, x_max=5, size=20)"
   ]
  },
  {
   "cell_type": "code",
   "execution_count": null,
   "id": "13d31784-30c1-4ee2-b59b-6b5b8d3a1485",
   "metadata": {},
   "outputs": [],
   "source": []
  },
  {
   "cell_type": "markdown",
   "id": "a1bde6a0-e42e-497c-8e42-bb508f00948b",
   "metadata": {},
   "source": [
    "### reference\n",
    "### https://github.com/kazuto1011/svm-pytorch?tab=readme-ov-file"
   ]
  },
  {
   "cell_type": "markdown",
   "id": "71d46c07-eb8c-4073-9253-2efb3ec49e8c",
   "metadata": {
    "id": "b39fbbc4"
   },
   "source": [
    "### references\n",
    "### https://gist.github.com/mlaves/c98cd4e6bcb9dbd4d0c03b34bacb0f65\n",
    "### https://gist.github.com/mlaves\n",
    "### https://github.com/adeveloperdiary/blog/blob/master/SVM/NonLinearSVM_DualProblem.py\n",
    "### https://github.com/adeveloperdiary/blog/tree/master"
   ]
  }
 ],
 "metadata": {
  "kernelspec": {
   "display_name": "Python 3 (ipykernel)",
   "language": "python",
   "name": "python3"
  },
  "language_info": {
   "codemirror_mode": {
    "name": "ipython",
    "version": 3
   },
   "file_extension": ".py",
   "mimetype": "text/x-python",
   "name": "python",
   "nbconvert_exporter": "python",
   "pygments_lexer": "ipython3",
   "version": "3.10.16"
  }
 },
 "nbformat": 4,
 "nbformat_minor": 5
}
