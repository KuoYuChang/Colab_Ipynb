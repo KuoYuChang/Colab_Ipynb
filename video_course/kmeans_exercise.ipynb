{
 "cells": [
  {
   "cell_type": "code",
   "execution_count": null,
   "metadata": {
    "colab": {
     "base_uri": "https://localhost:8080/",
     "height": 34
    },
    "colab_type": "code",
    "id": "1ddgCM_qEHZa",
    "outputId": "d8ad88e7-59b9-4097-cbd7-70668b9fec88"
   },
   "outputs": [],
   "source": [
    "!pip install kmeans-pytorch"
   ]
  },
  {
   "cell_type": "code",
   "execution_count": null,
   "metadata": {
    "colab": {},
    "colab_type": "code",
    "id": "R8_IiKZZEU9i"
   },
   "outputs": [],
   "source": [
    "import torch\n",
    "import numpy as np\n",
    "import matplotlib.pyplot as plt\n",
    "from kmeans_pytorch import kmeans, kmeans_predict"
   ]
  },
  {
   "cell_type": "code",
   "execution_count": null,
   "metadata": {
    "colab": {},
    "colab_type": "code",
    "id": "iyoljrh1FCxJ"
   },
   "outputs": [],
   "source": [
    "# set random seed\n",
    "np.random.seed(123)"
   ]
  },
  {
   "cell_type": "code",
   "execution_count": null,
   "metadata": {
    "colab": {},
    "colab_type": "code",
    "id": "tcnoTA16FHbJ"
   },
   "outputs": [],
   "source": [
    "# data\n",
    "data_size, dims, num_clusters = 1000, 2, 3\n",
    "x = np.random.randn(data_size, dims) / 6\n",
    "x = torch.from_numpy(x)"
   ]
  },
  {
   "cell_type": "code",
   "execution_count": null,
   "metadata": {},
   "outputs": [],
   "source": [
    "x"
   ]
  },
  {
   "cell_type": "code",
   "execution_count": null,
   "metadata": {},
   "outputs": [],
   "source": [
    "def plot_train(x, axis=[-1, 1, -1, 1]):\n",
    "    plt.figure(figsize=(8, 6), dpi=160)\n",
    "    plt.scatter(x[:, 0], x[:, 1], c='tab:gray', cmap='cool')\n",
    "    plt.axis(axis)\n",
    "    plt.tight_layout()\n",
    "    plt.show()"
   ]
  },
  {
   "cell_type": "code",
   "execution_count": null,
   "metadata": {},
   "outputs": [],
   "source": [
    "plot_train(x)"
   ]
  },
  {
   "cell_type": "code",
   "execution_count": null,
   "metadata": {
    "colab": {},
    "colab_type": "code",
    "id": "Ar-lcW3OFTXI"
   },
   "outputs": [],
   "source": [
    "# set device\n",
    "if torch.cuda.is_available():\n",
    "    device = torch.device('cuda:0')\n",
    "else:\n",
    "    device = torch.device('cpu')"
   ]
  },
  {
   "cell_type": "code",
   "execution_count": null,
   "metadata": {
    "colab": {
     "base_uri": "https://localhost:8080/",
     "height": 71
    },
    "colab_type": "code",
    "id": "KsM9zQZ5FYKp",
    "outputId": "c37d7629-560f-4191-bbee-2f5523d2cda2"
   },
   "outputs": [],
   "source": [
    "# k-means\n",
    "cluster_ids_x, cluster_centers = kmeans(\n",
    "    X=x, num_clusters=num_clusters, distance='euclidean', device=device\n",
    ")"
   ]
  },
  {
   "cell_type": "code",
   "execution_count": null,
   "metadata": {
    "colab": {
     "base_uri": "https://localhost:8080/",
     "height": 797
    },
    "colab_type": "code",
    "id": "IdzkYHBEFdja",
    "outputId": "3bd48cc3-487c-40f7-826a-c8fccecfce89"
   },
   "outputs": [],
   "source": [
    "# cluster IDs and cluster centers\n",
    "print(cluster_ids_x)\n",
    "print(cluster_centers)"
   ]
  },
  {
   "cell_type": "code",
   "execution_count": null,
   "metadata": {
    "colab": {},
    "colab_type": "code",
    "id": "32XHxknWFayP"
   },
   "outputs": [],
   "source": [
    "# more data\n",
    "y = np.random.randn(5, dims) / 6\n",
    "y = torch.from_numpy(y)"
   ]
  },
  {
   "cell_type": "code",
   "execution_count": null,
   "metadata": {
    "colab": {
     "base_uri": "https://localhost:8080/",
     "height": 34
    },
    "colab_type": "code",
    "id": "gQB3jVTKFfsN",
    "outputId": "1f2f634a-4a32-4b05-ca7f-231165e974ea"
   },
   "outputs": [],
   "source": [
    "# predict cluster ids for y\n",
    "cluster_ids_y = kmeans_predict(\n",
    "    y, cluster_centers, 'euclidean', device=device\n",
    ")"
   ]
  },
  {
   "cell_type": "code",
   "execution_count": null,
   "metadata": {
    "colab": {
     "base_uri": "https://localhost:8080/",
     "height": 34
    },
    "colab_type": "code",
    "id": "CGoD8s6_FiDp",
    "outputId": "7137fa6a-f5a8-4096-f5d2-fc74d45eaf2f"
   },
   "outputs": [],
   "source": [
    "print(cluster_ids_y)"
   ]
  },
  {
   "cell_type": "code",
   "execution_count": null,
   "metadata": {
    "colab": {
     "base_uri": "https://localhost:8080/",
     "height": 481
    },
    "colab_type": "code",
    "id": "5V0vxpaUEnFd",
    "outputId": "a97b6261-034e-493a-d8a6-cf955ab5e8fd"
   },
   "outputs": [],
   "source": [
    "# plot\n",
    "plt.figure(figsize=(8, 6), dpi=160)\n",
    "plt.scatter(x[:, 0], x[:, 1], c=cluster_ids_x, cmap='cool')\n",
    "plt.scatter(y[:, 0], y[:, 1], c=cluster_ids_y, cmap='cool', marker='X', edgecolors='white')\n",
    "plt.scatter(\n",
    "    cluster_centers[:, 0], cluster_centers[:, 1],\n",
    "    c='white',\n",
    "    alpha=0.6,\n",
    "    edgecolors='black',\n",
    "    linewidths=2\n",
    ")\n",
    "plt.axis([-1, 1, -1, 1])\n",
    "plt.tight_layout()\n",
    "plt.show()"
   ]
  },
  {
   "cell_type": "code",
   "execution_count": null,
   "metadata": {},
   "outputs": [],
   "source": [
    "from sklearn.datasets import make_blobs"
   ]
  },
  {
   "cell_type": "code",
   "execution_count": null,
   "metadata": {},
   "outputs": [],
   "source": [
    "X, Y = make_blobs(n_samples=300, centers=3, random_state=0, cluster_std=0.5)\n",
    "X = (X - X.mean()) / X.std()\n",
    "#X = X + 10\n",
    "X = torch.from_numpy(X)\n",
    "axis_range = [-2.5, 2.5, -2.5, 2.5]"
   ]
  },
  {
   "cell_type": "code",
   "execution_count": null,
   "metadata": {},
   "outputs": [],
   "source": [
    "plot_train(X, axis_range)"
   ]
  },
  {
   "cell_type": "code",
   "execution_count": null,
   "metadata": {
    "colab": {},
    "colab_type": "code",
    "id": "BHkQ-zw9EnsN"
   },
   "outputs": [],
   "source": [
    "# k-means\n",
    "new_num_cluster = 3\n",
    "cluster_ids_x, cluster_centers = kmeans(\n",
    "    X=X, num_clusters=new_num_cluster, distance='euclidean', device=device\n",
    ")"
   ]
  },
  {
   "cell_type": "code",
   "execution_count": null,
   "metadata": {},
   "outputs": [],
   "source": [
    "# plot\n",
    "plt.figure(figsize=(8, 6), dpi=160)\n",
    "plt.scatter(X[:, 0], X[:, 1], c=cluster_ids_x, cmap='cool')\n",
    "plt.scatter(\n",
    "    cluster_centers[:, 0], cluster_centers[:, 1],\n",
    "    c='white',\n",
    "    alpha=0.6,\n",
    "    edgecolors='black',\n",
    "    linewidths=2\n",
    ")\n",
    "plt.axis(axis_range)\n",
    "plt.tight_layout()\n",
    "plt.show()"
   ]
  },
  {
   "cell_type": "markdown",
   "metadata": {},
   "source": [
    "### another case\n",
    "### K-means may not be consistant"
   ]
  },
  {
   "cell_type": "code",
   "execution_count": null,
   "metadata": {},
   "outputs": [],
   "source": [
    "size = 100\n",
    "size_quar = 25\n",
    "dim = 2\n",
    "x_new = np.zeros((size, dim))\n",
    "x_new[:size_quar, 0] =  np.random.random(size=size_quar) -0.1\n",
    "x_new[:size_quar, 1] =  np.random.random(size=size_quar) / 2 + 0.4\n",
    "\n",
    "x_new[size_quar:2*size_quar, 0] =  -1 * np.random.random(size=size_quar) +0.1\n",
    "x_new[size_quar:2*size_quar, 1] =  np.random.random(size=size_quar) / 2 + 0.4\n",
    "\n",
    "x_new[2*size_quar:3*size_quar, 0] =  -1 * np.random.random(size=size_quar) + 0.1\n",
    "x_new[2*size_quar:3*size_quar, 1] =  np.random.random(size=size_quar) / 2 - 0.4\n",
    "\n",
    "x_new[3*size_quar:, 0] =  np.random.random(size=size_quar) -0.1\n",
    "x_new[3*size_quar:, 1] =  np.random.random(size=size_quar) / 2 - 0.4\n",
    "\n",
    "x_new = torch.from_numpy(x_new)"
   ]
  },
  {
   "cell_type": "code",
   "execution_count": null,
   "metadata": {},
   "outputs": [],
   "source": [
    "plot_train(x_new)"
   ]
  },
  {
   "cell_type": "code",
   "execution_count": null,
   "metadata": {
    "colab": {},
    "colab_type": "code",
    "id": "BHkQ-zw9EnsN"
   },
   "outputs": [],
   "source": [
    "# k-means\n",
    "new_num_cluster = 2\n",
    "cluster_ids_x, cluster_centers = kmeans(\n",
    "    X=x_new, num_clusters=new_num_cluster, distance='euclidean', device=device\n",
    ")"
   ]
  },
  {
   "cell_type": "code",
   "execution_count": null,
   "metadata": {},
   "outputs": [],
   "source": [
    "# plot\n",
    "plt.figure(figsize=(8, 6), dpi=160)\n",
    "plt.scatter(x_new[:, 0], x_new[:, 1], c=cluster_ids_x, cmap='cool')\n",
    "plt.scatter(\n",
    "    cluster_centers[:, 0], cluster_centers[:, 1],\n",
    "    c='white',\n",
    "    alpha=0.6,\n",
    "    edgecolors='black',\n",
    "    linewidths=2\n",
    ")\n",
    "plt.axis([-1, 1, -1, 1])\n",
    "plt.tight_layout()\n",
    "plt.show()"
   ]
  },
  {
   "cell_type": "markdown",
   "metadata": {},
   "source": [
    "### reference\n",
    "### https://github.com/subhadarship/kmeans_pytorch\n",
    "### https://github.com/subhadarship/kmeans_pytorch/blob/master/example.ipynb"
   ]
  }
 ],
 "metadata": {
  "accelerator": "GPU",
  "colab": {
   "collapsed_sections": [],
   "name": "example.ipynb",
   "provenance": []
  },
  "kernelspec": {
   "display_name": "Python 3 (ipykernel)",
   "language": "python",
   "name": "python3"
  },
  "language_info": {
   "codemirror_mode": {
    "name": "ipython",
    "version": 3
   },
   "file_extension": ".py",
   "mimetype": "text/x-python",
   "name": "python",
   "nbconvert_exporter": "python",
   "pygments_lexer": "ipython3",
   "version": "3.10.16"
  }
 },
 "nbformat": 4,
 "nbformat_minor": 4
}
