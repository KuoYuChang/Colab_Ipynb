{
 "cells": [
  {
   "cell_type": "code",
   "execution_count": null,
   "id": "fd390ec6-150f-4af8-93e7-55f7daf2f0b4",
   "metadata": {},
   "outputs": [],
   "source": [
    "%load_ext autoreload\n",
    "%autoreload 2"
   ]
  },
  {
   "cell_type": "code",
   "execution_count": null,
   "id": "acc06725-a3ff-4dae-b587-43e699a281df",
   "metadata": {},
   "outputs": [],
   "source": [
    "import torch\n",
    "import torch.nn as nn\n",
    "import numpy as np"
   ]
  },
  {
   "cell_type": "code",
   "execution_count": null,
   "id": "4d9327d3-bb57-4387-a2ca-dc4ba2355a58",
   "metadata": {},
   "outputs": [],
   "source": [
    "from torchsummary import summary"
   ]
  },
  {
   "cell_type": "code",
   "execution_count": null,
   "id": "b665bc98-759d-4fd4-a5e5-a7d0c0756704",
   "metadata": {},
   "outputs": [],
   "source": [
    "import matplotlib.pyplot as plt"
   ]
  },
  {
   "cell_type": "code",
   "execution_count": null,
   "id": "9b4b5a5f-2e84-4a13-ba01-9f49e528aeca",
   "metadata": {},
   "outputs": [],
   "source": [
    "plt.rcParams['figure.figsize']"
   ]
  },
  {
   "cell_type": "code",
   "execution_count": null,
   "id": "335f6b2c-62bc-41d0-a96e-ce41046b947f",
   "metadata": {},
   "outputs": [],
   "source": [
    "plt.rcParams['figure.figsize'] = [8, 8]"
   ]
  },
  {
   "cell_type": "code",
   "execution_count": null,
   "id": "be00f8de-0d20-4395-9709-61ce3f5a56f2",
   "metadata": {},
   "outputs": [],
   "source": [
    "!git clone https://github.com/KuoYuChang/MLDL_video_course.git\n",
    "%cd MLDL_video_course"
   ]
  },
  {
   "cell_type": "code",
   "execution_count": null,
   "id": "d1b6b5f8-c965-4449-a70c-d882e4f2b1bb",
   "metadata": {},
   "outputs": [],
   "source": [
    "from utils.data import gaussian_data, circle_data, xor_data, spiral_data\n",
    "from utils.plot_tools import plot_play_data, w2plane"
   ]
  },
  {
   "cell_type": "markdown",
   "id": "66452f01-6739-47a8-bc65-a085e42ec93b",
   "metadata": {},
   "source": [
    "### Gaussian dataset"
   ]
  },
  {
   "cell_type": "code",
   "execution_count": null,
   "id": "ba19ecbe-ebc6-40f8-9ce0-1e271b649472",
   "metadata": {},
   "outputs": [],
   "source": [
    "mean_0 = [-2, -2]\n",
    "mean_1 = [2, 2]\n",
    "cov = [[1, 0], [0, 1]]\n",
    "num = 100"
   ]
  },
  {
   "cell_type": "code",
   "execution_count": null,
   "id": "67dbb907-b744-46d7-b73b-d3c66ddb1bc7",
   "metadata": {},
   "outputs": [],
   "source": [
    "gaussian = gaussian_data(mean_0, mean_1, cov=cov, num=num)"
   ]
  },
  {
   "cell_type": "code",
   "execution_count": null,
   "id": "6d83ebfc-0f57-4deb-bcb3-4efd69e5f8e9",
   "metadata": {},
   "outputs": [],
   "source": [
    "half_num = int(num/2)\n",
    "left_gau = gaussian[:half_num]\n",
    "right_gau = gaussian[half_num:]\n",
    "plot_play_data(right_gau, left_gau)"
   ]
  },
  {
   "cell_type": "code",
   "execution_count": null,
   "id": "701a8909-bf48-4ef0-9ffc-b2416ab6407f",
   "metadata": {},
   "outputs": [],
   "source": [
    "from torch.utils.data import Dataset\n",
    "from torch.utils.data import DataLoader\n",
    "\n",
    "import torch.optim as optim"
   ]
  },
  {
   "cell_type": "code",
   "execution_count": null,
   "id": "8d4fa593-ad8e-44f4-bce9-ee9842d58a70",
   "metadata": {},
   "outputs": [],
   "source": [
    "from utils.dataset_torch import playDataset"
   ]
  },
  {
   "cell_type": "code",
   "execution_count": null,
   "id": "39074947-ab25-4bf6-ac90-38adb84a07e5",
   "metadata": {},
   "outputs": [],
   "source": [
    "batch_size = 16"
   ]
  },
  {
   "cell_type": "code",
   "execution_count": null,
   "id": "e28adb31-23ef-4397-9d88-cd86173c613c",
   "metadata": {},
   "outputs": [],
   "source": [
    "gaussian_xy = gaussian[:, 0:2]\n",
    "gaussian_labels = gaussian[:, 2]\n",
    "\n",
    "gaussianData = playDataset(gaussian_labels, gaussian_xy)\n",
    "\n",
    "\n",
    "gaussianLoader = DataLoader(gaussianData, batch_size=batch_size, shuffle=True)"
   ]
  },
  {
   "cell_type": "code",
   "execution_count": null,
   "id": "cf31d532-aff9-4dcb-8657-0ee496a367d4",
   "metadata": {},
   "outputs": [],
   "source": [
    "dataiter = iter(gaussianLoader)\n",
    "print(next(dataiter))"
   ]
  },
  {
   "cell_type": "code",
   "execution_count": null,
   "id": "706e9149-68bb-4cea-b98a-8f40413c80c9",
   "metadata": {},
   "outputs": [],
   "source": [
    "# simple linear layer network\n",
    "\n",
    "class GaussianNet(nn.Module):\n",
    "    def __init__(self):\n",
    "        super().__init__()\n",
    "\n",
    "        self.linear = nn.Linear(2, 1)\n",
    "        self.final_acti = nn.Sigmoid()\n",
    "\n",
    "        # define loss, optimizer\n",
    "        self.loss = nn.BCELoss()\n",
    "        self.optimizer = optim.SGD(self.parameters(), lr=0.002, momentum=0.9)\n",
    "\n",
    "    def forward(self, x):\n",
    "        x = self.linear(x)\n",
    "        x = self.final_acti(x)\n",
    "        return x\n",
    "\n",
    "    def train_step(self, inputs, labels):\n",
    "        outputs = self(inputs)\n",
    "        output_inside = outputs.flatten()\n",
    "        loss = self.loss(output_inside, labels)\n",
    "        loss.backward()\n",
    "\n",
    "        # update weight via gradient\n",
    "        self.optimizer.step()\n",
    "\n",
    "        return loss.item()"
   ]
  },
  {
   "cell_type": "code",
   "execution_count": null,
   "id": "80bf2a1c-300d-4a70-a3c4-492cd6640a6d",
   "metadata": {},
   "outputs": [],
   "source": [
    "gaussianNet = GaussianNet()"
   ]
  },
  {
   "cell_type": "code",
   "execution_count": null,
   "id": "31b385d7-4fa4-4c7c-9ccc-b1f0e410565e",
   "metadata": {},
   "outputs": [],
   "source": [
    "print(summary(gaussianNet, input_size=(2,)))"
   ]
  },
  {
   "cell_type": "code",
   "execution_count": null,
   "id": "a24dc328-bee7-4872-afc8-3c8d9bbab3dc",
   "metadata": {},
   "outputs": [],
   "source": [
    "num_epoch = 700\n",
    "currentLoader = gaussianLoader\n",
    "\n",
    "for epoch in range(num_epoch):\n",
    "    running_loss = 0.0\n",
    "\n",
    "    count = 0\n",
    "    for i, data in enumerate(currentLoader, 0):\n",
    "        inputs, labels = data\n",
    "\n",
    "        # zero the parameter gradients\n",
    "        gaussianNet.optimizer.zero_grad()\n",
    "\n",
    "        batch_loss = gaussianNet.train_step(inputs, labels)\n",
    "        running_loss += batch_loss\n",
    "\n",
    "        count = count + 1\n",
    "        \n",
    "    if epoch % 50 == 49:    # print every 2000 mini-batches\n",
    "        #print(\"count: \", count)\n",
    "        print(f'[{epoch + 1}] loss: {running_loss / count:.3f}')\n",
    "        running_loss = 0.0\n",
    "print('Finished Training')"
   ]
  },
  {
   "cell_type": "code",
   "execution_count": null,
   "id": "674674a9-3bdf-4c75-b0f5-bcfa14faa2e0",
   "metadata": {},
   "outputs": [],
   "source": [
    "hyper_plane = gaussianNet.linear\n",
    "hyper_plane.weight, hyper_plane.bias"
   ]
  },
  {
   "cell_type": "code",
   "execution_count": null,
   "id": "3e41057d-f592-4924-9a3e-529f0d623df6",
   "metadata": {},
   "outputs": [],
   "source": [
    "def w2plane(weight, bias):\n",
    "    wx = weight[0]\n",
    "    wy = weight[1]\n",
    "    bias = bias[0]\n",
    "    a = 0\n",
    "    b = 0\n",
    "    if_vertical = False\n",
    "    if abs(wy) < 1e-8:\n",
    "        if_vertical = True\n",
    "        a = 1\n",
    "        b = -bias/wx\n",
    "    else:\n",
    "        a = -wx/wy\n",
    "        b = -bias/wy\n",
    "    return a, b, if_vertical"
   ]
  },
  {
   "cell_type": "code",
   "execution_count": null,
   "id": "539e558c-35ee-4f5d-bd49-de269765b245",
   "metadata": {},
   "outputs": [],
   "source": [
    "weight = hyper_plane.weight.cpu().detach().numpy()\n",
    "weight = weight[0]\n",
    "bias = hyper_plane.bias.cpu().detach().numpy()\n",
    "a, b, if_vertical = w2plane(weight, bias)\n",
    "\n",
    "print(a, b, if_vertical)"
   ]
  },
  {
   "cell_type": "code",
   "execution_count": null,
   "id": "7ed0817a-3467-4a20-ad1a-b8ca2f44cff7",
   "metadata": {},
   "outputs": [],
   "source": [
    "plot_play_data(right_gau, left_gau, predict=True, hy_plane=[a, b], if_vertical=if_vertical)"
   ]
  },
  {
   "cell_type": "markdown",
   "id": "6201c9ee-b312-4f36-9152-f4c3d465add3",
   "metadata": {},
   "source": [
    "## circleData"
   ]
  },
  {
   "cell_type": "code",
   "execution_count": null,
   "id": "a8ae9a20-f636-4801-9204-6b61d0025e28",
   "metadata": {},
   "outputs": [],
   "source": [
    "radius = 5\n",
    "num = 100\n",
    "noise = 0.001"
   ]
  },
  {
   "cell_type": "code",
   "execution_count": null,
   "id": "08295d48-f6af-4394-9d1b-4986793c7d2e",
   "metadata": {},
   "outputs": [],
   "source": [
    "circle = circle_data(radius=radius, num=num, noise=noise)"
   ]
  },
  {
   "cell_type": "code",
   "execution_count": null,
   "id": "93719355-fb8e-46ed-8367-afc038bcb4e8",
   "metadata": {},
   "outputs": [],
   "source": [
    "inside_circle = circle[circle[:, 2] == 1]\n",
    "outside_circle = circle[circle[:, 2] == 0]"
   ]
  },
  {
   "cell_type": "code",
   "execution_count": null,
   "id": "0fd37c62-1d09-4217-b6de-ebb179b12482",
   "metadata": {},
   "outputs": [],
   "source": [
    "plot_play_data(inside_circle, outside_circle)"
   ]
  },
  {
   "cell_type": "markdown",
   "id": "ec346dc1-5a73-4dc6-a3cc-26bb6346997f",
   "metadata": {},
   "source": [
    "### hand-craft feature transform"
   ]
  },
  {
   "cell_type": "code",
   "execution_count": null,
   "id": "770549cc-1c43-44db-a9b8-62809415cc6b",
   "metadata": {},
   "outputs": [],
   "source": [
    "new_circle = np.zeros((num, 3), dtype=np.float32)\n",
    "\n",
    "new_circle[:, 1] = np.sqrt( np.multiply(circle[:, 0], circle[:, 0]) + np.multiply(circle[:, 1], circle[:, 1]) )\n",
    "new_circle[:, 0] = np.divide(circle[:, 0], new_circle[:, 1])\n",
    "new_circle[:, 2] = circle[:, 2]"
   ]
  },
  {
   "cell_type": "code",
   "execution_count": null,
   "id": "c62ab395-996d-4d30-808d-ec9b300f7634",
   "metadata": {},
   "outputs": [],
   "source": [
    "# plot\n",
    "inside_new_circle = new_circle[new_circle[:, 2] == 1]\n",
    "outside_new_circle = new_circle[new_circle[:, 2] == 0]\n",
    "plot_play_data(inside_new_circle, outside_new_circle)"
   ]
  },
  {
   "cell_type": "markdown",
   "id": "790a8885-b0ca-4ac2-ae61-94c66e685beb",
   "metadata": {},
   "source": [
    "### train linear classifier on transformed circle dataset"
   ]
  },
  {
   "cell_type": "code",
   "execution_count": null,
   "id": "18d5e0da-b26c-4532-990c-ee6f1adfad8e",
   "metadata": {},
   "outputs": [],
   "source": [
    "batch_size = 16"
   ]
  },
  {
   "cell_type": "code",
   "execution_count": null,
   "id": "a113a6ae-d4e2-44c2-a858-db63f11808b8",
   "metadata": {},
   "outputs": [],
   "source": [
    "circle_labels = new_circle[:, 2]\n",
    "new_circle_xy = new_circle[:, 0:2]\n",
    "\n",
    "newCircleData = playDataset(circle_labels, new_circle_xy)\n",
    "\n",
    "\n",
    "newCircleLoader = DataLoader(newCircleData, batch_size=batch_size, shuffle=True)"
   ]
  },
  {
   "cell_type": "code",
   "execution_count": null,
   "id": "11fb7747-5f7d-42d1-af66-9e8d6c77d8ab",
   "metadata": {},
   "outputs": [],
   "source": [
    "dataiter = iter(newCircleLoader)\n",
    "print(next(dataiter))"
   ]
  },
  {
   "cell_type": "code",
   "execution_count": null,
   "id": "50e0d0dd-8dbd-4a2c-b984-87b14ee7c941",
   "metadata": {},
   "outputs": [],
   "source": [
    "# linear layer to classify\n",
    "\n",
    "class CircleNet(nn.Module):\n",
    "    def __init__(self):\n",
    "        super().__init__()\n",
    "\n",
    "        self.linear = nn.Linear(2, 1)\n",
    "        self.final_acti = nn.Sigmoid()\n",
    "\n",
    "        # define loss, optimizer\n",
    "        self.loss = nn.BCELoss()\n",
    "        self.optimizer = optim.SGD(self.parameters(), lr=0.001, momentum=0.9)\n",
    "\n",
    "    def forward(self, x):\n",
    "        x = self.linear(x)\n",
    "        x = self.final_acti(x)\n",
    "        return x\n",
    "\n",
    "    def train_step(self, inputs, labels):\n",
    "        outputs = self(inputs)\n",
    "        output_inside = outputs.flatten()\n",
    "        loss = self.loss(output_inside, labels)\n",
    "        loss.backward()\n",
    "\n",
    "        # update weight via gradient\n",
    "        self.optimizer.step()\n",
    "\n",
    "        return loss.item()"
   ]
  },
  {
   "cell_type": "code",
   "execution_count": null,
   "id": "c06053ae-8920-4b0c-b6af-d389c5c4bbe9",
   "metadata": {},
   "outputs": [],
   "source": [
    "circleNet = CircleNet()"
   ]
  },
  {
   "cell_type": "code",
   "execution_count": null,
   "id": "5d1e5f61-48e0-4ca2-a19c-afc219f2eb56",
   "metadata": {},
   "outputs": [],
   "source": [
    "print(summary(circleNet, input_size=(2,)))"
   ]
  },
  {
   "cell_type": "code",
   "execution_count": null,
   "id": "9837848d-af2e-4309-8f67-85f1e63b216a",
   "metadata": {},
   "outputs": [],
   "source": [
    "hyper_plane = circleNet.linear\n",
    "hyper_plane.weight, hyper_plane.bias"
   ]
  },
  {
   "cell_type": "code",
   "execution_count": null,
   "id": "9e63d239-0bc2-4758-a3b7-468efc03cd99",
   "metadata": {},
   "outputs": [],
   "source": [
    "num_epoch = 1200\n",
    "currentLoader = newCircleLoader\n",
    "\n",
    "for epoch in range(num_epoch):\n",
    "    running_loss = 0.0\n",
    "\n",
    "    count = 0\n",
    "    for i, data in enumerate(currentLoader, 0):\n",
    "        inputs, labels = data\n",
    "\n",
    "        # zero the parameter gradients\n",
    "        circleNet.optimizer.zero_grad()\n",
    "\n",
    "        batch_loss = circleNet.train_step(inputs, labels)\n",
    "        running_loss += batch_loss\n",
    "\n",
    "        # if i % 3 == 2:    # print every 2000 mini-batches\n",
    "            # print(f'[{epoch + 1}, {i + 1:5d}] loss: {running_loss / 2000:.3f}')\n",
    "            # running_loss = 0.0\n",
    "        count = count + 1\n",
    "        \n",
    "    if epoch % 50 == 49:    # print every 2000 mini-batches\n",
    "        #print(\"count: \", count)\n",
    "        print(f'[{epoch + 1}] loss: {running_loss / count:.3f}')\n",
    "        running_loss = 0.0\n",
    "print('Finished Training')"
   ]
  },
  {
   "cell_type": "code",
   "execution_count": null,
   "id": "1aa28370-910d-4544-855a-d37c344bd365",
   "metadata": {},
   "outputs": [],
   "source": [
    "hyper_plane = circleNet.linear\n",
    "hyper_plane.weight, hyper_plane.bias"
   ]
  },
  {
   "cell_type": "code",
   "execution_count": null,
   "id": "f72b4790-03a7-4643-a97a-d3b7a375bd75",
   "metadata": {},
   "outputs": [],
   "source": [
    "weight = hyper_plane.weight.cpu().detach().numpy()\n",
    "weight = weight[0]\n",
    "bias = hyper_plane.bias.cpu().detach().numpy()\n",
    "a, b, if_vertical = w2plane(weight, bias)\n",
    "\n",
    "print(a, b, if_vertical)"
   ]
  },
  {
   "cell_type": "code",
   "execution_count": null,
   "id": "32b11a47-5f88-4470-818b-bc6867f62d44",
   "metadata": {},
   "outputs": [],
   "source": [
    "# plot \n",
    "plot_play_data(inside_new_circle, outside_new_circle, predict=True, hy_plane=[a, b], if_vertical=if_vertical)"
   ]
  },
  {
   "cell_type": "code",
   "execution_count": null,
   "id": "3b50be7f-0499-496f-a6c3-ea796d76ce5a",
   "metadata": {
    "scrolled": true
   },
   "outputs": [],
   "source": [
    "newCircleFixLoader = DataLoader(newCircleData, batch_size=1, shuffle=False)\n",
    "fixDataiter = iter(newCircleFixLoader)\n",
    "data_i, label_i = next(fixDataiter)\n",
    "\n",
    "data_i, circleNet(data_i)\n"
   ]
  },
  {
   "cell_type": "code",
   "execution_count": null,
   "id": "9b8b9a3d-32fc-41b9-859e-9368cb4fee88",
   "metadata": {},
   "outputs": [],
   "source": [
    "def final_class(prob, thres=0.5):\n",
    "    if prob > 0.5:\n",
    "        return 1\n",
    "    else:\n",
    "        return 0"
   ]
  },
  {
   "cell_type": "code",
   "execution_count": null,
   "id": "cd2892e1-fdec-4b99-b7a7-88edf159f122",
   "metadata": {},
   "outputs": [],
   "source": [
    "prob = circleNet(data_i).item()\n",
    "pred_cls = final_class(prob)\n",
    "pred_cls"
   ]
  },
  {
   "cell_type": "code",
   "execution_count": null,
   "id": "4c6bb0c7-7743-4664-904a-570edb00ea03",
   "metadata": {},
   "outputs": [],
   "source": [
    "circleNet.eval()\n",
    "\n",
    "for data in newCircleFixLoader:\n",
    "    data_i, label_i = data\n",
    "\n",
    "    prob = circleNet(data_i).item()\n",
    "    pred_cls = final_class(prob)\n",
    "    print(data_i, label_i, pred_cls, prob)"
   ]
  },
  {
   "cell_type": "markdown",
   "id": "85e0dec8-a704-4d06-8910-4bcf00a06338",
   "metadata": {},
   "source": [
    "### XOR dataset"
   ]
  },
  {
   "cell_type": "code",
   "execution_count": null,
   "id": "daeb56d0-a92f-40bc-8b0c-2cbe8a4090d4",
   "metadata": {},
   "outputs": [],
   "source": [
    "xor = xor_data(margin=0.7)"
   ]
  },
  {
   "cell_type": "code",
   "execution_count": null,
   "id": "a3ca05b8-9931-4ddc-8e48-558a2f2f9c2c",
   "metadata": {},
   "outputs": [],
   "source": [
    "pos_xor = xor[xor[:, 2]==1]\n",
    "neg_xor = xor[xor[:, 2]==0]\n",
    "\n",
    "plot_play_data(pos_xor, neg_xor)"
   ]
  },
  {
   "cell_type": "markdown",
   "id": "765c9c4a-fe1e-43d0-82f0-cf47ef79fd4a",
   "metadata": {},
   "source": [
    "### hand-craft feature transform"
   ]
  },
  {
   "cell_type": "code",
   "execution_count": null,
   "id": "2609ccb7-f687-42c4-ac1f-eaf4ed33d268",
   "metadata": {},
   "outputs": [],
   "source": [
    "new_xor = np.zeros((num, 3), dtype=np.float32)\n",
    "\n",
    "new_xor[:, 0] = 0\n",
    "new_xor[:, 1] = np.multiply(xor[:, 0], xor[:, 1])\n",
    "new_xor[:, 2] = xor[:, 2]"
   ]
  },
  {
   "cell_type": "code",
   "execution_count": null,
   "id": "b3f30044-d305-4b73-b7c1-1fa40da7885d",
   "metadata": {},
   "outputs": [],
   "source": [
    "pos_new_xor = new_xor[new_xor[:, 2]==1]\n",
    "neg_new_xor = new_xor[new_xor[:, 2]==0]\n",
    "\n",
    "plot_play_data(pos_new_xor, neg_new_xor)"
   ]
  },
  {
   "cell_type": "code",
   "execution_count": null,
   "id": "08420a53-78c0-46ed-84cc-92afe07ee791",
   "metadata": {},
   "outputs": [],
   "source": [
    "xor_labels = new_xor[:, 2]\n",
    "new_xor_xy = new_xor[:, 0:2]\n",
    "\n",
    "newXorData = playDataset(xor_labels, new_xor_xy)\n",
    "\n",
    "\n",
    "newXorLoader = DataLoader(newXorData, batch_size=batch_size, shuffle=True)"
   ]
  },
  {
   "cell_type": "code",
   "execution_count": null,
   "id": "f4afbea1-c9c9-404b-806c-23b8a89fe0cc",
   "metadata": {},
   "outputs": [],
   "source": []
  },
  {
   "cell_type": "markdown",
   "id": "074f8160-50ef-4b76-bf9e-a44bf1b5f795",
   "metadata": {},
   "source": [
    "### train with linear classifier"
   ]
  },
  {
   "cell_type": "code",
   "execution_count": null,
   "id": "48d3d70f-ad87-49d3-82b7-55667137086e",
   "metadata": {},
   "outputs": [],
   "source": [
    "# linear layer to classify\n",
    "\n",
    "class XorNet(nn.Module):\n",
    "    def __init__(self):\n",
    "        super().__init__()\n",
    "\n",
    "        self.linear = nn.Linear(2, 1)\n",
    "        self.final_acti = nn.Sigmoid()\n",
    "\n",
    "        # define loss, optimizer\n",
    "        self.loss = nn.BCELoss()\n",
    "        self.optimizer = optim.SGD(self.parameters(), lr=0.001, momentum=0.9)\n",
    "\n",
    "    def forward(self, x):\n",
    "        x = self.linear(x)\n",
    "        x = self.final_acti(x)\n",
    "        return x\n",
    "\n",
    "    def train_step(self, inputs, labels):\n",
    "        outputs = self(inputs)\n",
    "        output_inside = outputs.flatten()\n",
    "        loss = self.loss(output_inside, labels)\n",
    "        loss.backward()\n",
    "\n",
    "        # update weight via gradient\n",
    "        self.optimizer.step()\n",
    "\n",
    "        return loss.item()"
   ]
  },
  {
   "cell_type": "code",
   "execution_count": null,
   "id": "f678b338-79c4-4b93-af13-db5105316f9a",
   "metadata": {},
   "outputs": [],
   "source": [
    "xorNet = XorNet()"
   ]
  },
  {
   "cell_type": "code",
   "execution_count": null,
   "id": "36a93c8c-7af9-4833-a06e-952960ffc812",
   "metadata": {},
   "outputs": [],
   "source": [
    "print(summary(xorNet, input_size=(2,)))"
   ]
  },
  {
   "cell_type": "code",
   "execution_count": null,
   "id": "203c5fd2-3e69-48be-8467-1825e4893460",
   "metadata": {},
   "outputs": [],
   "source": []
  },
  {
   "cell_type": "code",
   "execution_count": null,
   "id": "347d9f38-4175-40d7-95d7-63fdb1eb9480",
   "metadata": {},
   "outputs": [],
   "source": [
    "num_epoch = 1200\n",
    "currentLoader = newXorLoader\n",
    "\n",
    "for epoch in range(num_epoch):\n",
    "    running_loss = 0.0\n",
    "\n",
    "    count = 0\n",
    "    for i, data in enumerate(currentLoader, 0):\n",
    "        inputs, labels = data\n",
    "\n",
    "        # zero the parameter gradients\n",
    "        xorNet.optimizer.zero_grad()\n",
    "\n",
    "        batch_loss = xorNet.train_step(inputs, labels)\n",
    "        running_loss += batch_loss\n",
    "\n",
    "        # if i % 3 == 2:    # print every 2000 mini-batches\n",
    "            # print(f'[{epoch + 1}, {i + 1:5d}] loss: {running_loss / 2000:.3f}')\n",
    "            # running_loss = 0.0\n",
    "        count = count + 1\n",
    "        \n",
    "    if epoch % 50 == 49:    # print every 2000 mini-batches\n",
    "        #print(\"count: \", count)\n",
    "        print(f'[{epoch + 1}] loss: {running_loss / count:.3f}')\n",
    "        running_loss = 0.0\n",
    "print('Finished Training')"
   ]
  },
  {
   "cell_type": "code",
   "execution_count": null,
   "id": "bdea6ca3-c7b8-4765-a113-db07dd82dc42",
   "metadata": {},
   "outputs": [],
   "source": [
    "hyper_plane = xorNet.linear\n",
    "weight = hyper_plane.weight.cpu().detach().numpy()\n",
    "weight = weight[0]\n",
    "bias = hyper_plane.bias.cpu().detach().numpy()\n",
    "a, b, if_vertical = w2plane(weight, bias)\n",
    "\n",
    "print(a, b, if_vertical)"
   ]
  },
  {
   "cell_type": "code",
   "execution_count": null,
   "id": "61ce38f4-6a98-4c81-80f0-b6cf0c53abce",
   "metadata": {},
   "outputs": [],
   "source": [
    "plot_play_data(pos_new_xor, neg_new_xor, predict=True, hy_plane=[a, b], if_vertical=if_vertical)"
   ]
  },
  {
   "cell_type": "code",
   "execution_count": null,
   "id": "4d078eb7-31e7-4594-8fe0-31b9e43ae6b4",
   "metadata": {},
   "outputs": [],
   "source": []
  },
  {
   "cell_type": "code",
   "execution_count": null,
   "id": "3dc9d0bd-5a23-48f3-b624-4720486307b9",
   "metadata": {},
   "outputs": [],
   "source": []
  },
  {
   "cell_type": "markdown",
   "id": "9029abeb-5700-40ea-a840-c07bfe5a9890",
   "metadata": {},
   "source": [
    "### Spiral"
   ]
  },
  {
   "cell_type": "code",
   "execution_count": null,
   "id": "1df015b5-892c-42f0-b55f-db33a0b89c46",
   "metadata": {},
   "outputs": [],
   "source": [
    "from utils.data import spiral_data"
   ]
  },
  {
   "cell_type": "code",
   "execution_count": null,
   "id": "56b7227b-857d-4249-b99d-2d0b591177c3",
   "metadata": {},
   "outputs": [],
   "source": [
    "num = 100"
   ]
  },
  {
   "cell_type": "code",
   "execution_count": null,
   "id": "2ae00295-4694-4617-bcac-98a3c5eba445",
   "metadata": {},
   "outputs": [],
   "source": [
    "spiral = spiral_data(num=num)"
   ]
  },
  {
   "cell_type": "code",
   "execution_count": null,
   "id": "5ba7aa12-fc1c-453d-93e9-6c66ba28a954",
   "metadata": {},
   "outputs": [],
   "source": [
    "pos_spiral = spiral[spiral[:, 2]==1]\n",
    "neg_spiral = spiral[spiral[:, 2]==0]\n",
    "\n",
    "plot_play_data(pos_spiral, neg_spiral)"
   ]
  },
  {
   "cell_type": "code",
   "execution_count": null,
   "id": "b1be94b1-21a5-4415-952a-4b7406812aa1",
   "metadata": {},
   "outputs": [],
   "source": [
    "new_spiral = np.zeros((num, 3), dtype=np.float32)\n",
    "\n",
    "new_spiral[:, 0] = np.sqrt( np.multiply(spiral[:, 0], spiral[:, 0]) + np.multiply(spiral[:, 1], spiral[:, 1]) )\n",
    "new_spiral[:, 1] = np.divide(spiral[:, 0], new_spiral[:, 1]+1e-8)\n",
    "new_spiral[:, 2] = spiral[:, 2]"
   ]
  },
  {
   "cell_type": "code",
   "execution_count": null,
   "id": "aa1fc341-d208-405e-a91f-2d25c3383e6e",
   "metadata": {},
   "outputs": [],
   "source": [
    "pos_new_spiral = new_spiral[new_spiral[:, 2]==1]\n",
    "neg_new_spiral = new_spiral[new_spiral[:, 2]==0]\n",
    "\n",
    "plot_play_data(pos_new_spiral, neg_new_spiral)"
   ]
  },
  {
   "cell_type": "code",
   "execution_count": null,
   "id": "b0cda741-90e6-4733-b71e-2bef1585ac56",
   "metadata": {},
   "outputs": [],
   "source": []
  },
  {
   "cell_type": "code",
   "execution_count": null,
   "id": "945e4f2e-855e-4f38-9691-c18617ff7f71",
   "metadata": {},
   "outputs": [],
   "source": []
  },
  {
   "cell_type": "code",
   "execution_count": null,
   "id": "ab6cd513-56ae-4916-9a91-65696a15df22",
   "metadata": {},
   "outputs": [],
   "source": []
  },
  {
   "cell_type": "code",
   "execution_count": null,
   "id": "b7f26e19-f2ca-4800-8641-67e1250ef5ea",
   "metadata": {},
   "outputs": [],
   "source": []
  },
  {
   "cell_type": "markdown",
   "id": "a788f442-a713-42ac-b19f-73f018ae4a15",
   "metadata": {},
   "source": [
    "# artifical features for circle dataset"
   ]
  },
  {
   "cell_type": "markdown",
   "id": "81d50008-858f-46fc-801c-4c1f29855bb5",
   "metadata": {},
   "source": [
    "#### modifed circle network"
   ]
  },
  {
   "cell_type": "code",
   "execution_count": null,
   "id": "52787021-9fbf-4091-8ac0-b3c76523edfb",
   "metadata": {},
   "outputs": [],
   "source": [
    "import copy"
   ]
  },
  {
   "cell_type": "code",
   "execution_count": null,
   "id": "68b30586-dab7-4d95-ad60-244f9bf5e079",
   "metadata": {},
   "outputs": [],
   "source": [
    "class CircleNetMod(nn.Module):\n",
    "    def __init__(self):\n",
    "        super().__init__()\n",
    "\n",
    "        self.relu = torch.nn.ReLU()\n",
    "        \n",
    "\n",
    "        self.linear0 = nn.Linear(2, 6)\n",
    "        self.batch_0 = nn.BatchNorm1d(6)\n",
    "        self.linear1 = nn.Linear(6, 5)\n",
    "        self.batch_1 = nn.BatchNorm1d(5)\n",
    "        self.linear2 = nn.Linear(5, 4)\n",
    "        self.batch_2 = nn.BatchNorm1d(4)\n",
    "        self.linear3 = nn.Linear(4, 2)\n",
    "        self.batch_3 = nn.BatchNorm1d(2)\n",
    "\n",
    "        \n",
    "        \n",
    "\n",
    "        # final layer to classify\n",
    "        self.linear = nn.Linear(2, 1)\n",
    "        self.final_acti = nn.Sigmoid()\n",
    "\n",
    "        # define loss, optimizer\n",
    "        self.loss = nn.BCELoss()\n",
    "        self.optimizer = optim.SGD(self.parameters(), lr=0.001, momentum=0.9)\n",
    "\n",
    "    def forward(self, x):\n",
    "        x = self.linear0(x)\n",
    "        x = self.relu(x)\n",
    "        x = self.batch_0(x)\n",
    "\n",
    "        x = self.linear1(x)\n",
    "        x = self.relu(x)\n",
    "        x = self.batch_1(x)\n",
    "\n",
    "        x = self.linear2(x)\n",
    "        x = self.relu(x)\n",
    "        x = self.batch_2(x)\n",
    "\n",
    "        x = self.linear3(x)\n",
    "        x = self.relu(x)\n",
    "        x = self.batch_3(x)\n",
    "\n",
    "        new_x = x.clone()\n",
    "        \n",
    "        x = self.linear(x)\n",
    "        x = self.final_acti(x)\n",
    "        return new_x, x\n",
    "\n",
    "    def train_step(self, inputs, labels):\n",
    "        new_fea, outputs = self(inputs)\n",
    "        output_inside = outputs.flatten()\n",
    "        loss = self.loss(output_inside, labels)\n",
    "        loss.backward()\n",
    "\n",
    "        # update weight via gradient\n",
    "        self.optimizer.step()\n",
    "\n",
    "        return loss.item()"
   ]
  },
  {
   "cell_type": "code",
   "execution_count": null,
   "id": "08b98d0d-c53d-47a7-a9f1-2d1b20250bc6",
   "metadata": {},
   "outputs": [],
   "source": [
    "circleNetMod = CircleNetMod()"
   ]
  },
  {
   "cell_type": "code",
   "execution_count": null,
   "id": "72b5d832-9e15-4bab-b87e-ee3b6a89477c",
   "metadata": {},
   "outputs": [],
   "source": [
    "print(summary(circleNetMod, input_size=(2,)))"
   ]
  },
  {
   "cell_type": "code",
   "execution_count": null,
   "id": "6b8a5864-5511-4922-9b94-3655d2ef087c",
   "metadata": {},
   "outputs": [],
   "source": [
    "circle_labels = circle[:, 2]\n",
    "circle_xy = circle[:, 0:2]\n",
    "\n",
    "circleData = playDataset(circle_labels, circle_xy)"
   ]
  },
  {
   "cell_type": "code",
   "execution_count": null,
   "id": "acb0923d-e50c-4f71-bdd0-8451b7a6ef66",
   "metadata": {},
   "outputs": [],
   "source": [
    "circleLoader = DataLoader(circleData, batch_size=batch_size, shuffle=True, drop_last=True)\n",
    "circleFixLoader = DataLoader(circleData, batch_size=1, shuffle=False)"
   ]
  },
  {
   "cell_type": "code",
   "execution_count": null,
   "id": "2bc6b07f-c94b-40d0-a866-aaadc1b1da30",
   "metadata": {},
   "outputs": [],
   "source": [
    "#circleNetMod.train()"
   ]
  },
  {
   "cell_type": "code",
   "execution_count": null,
   "id": "fe14a4e5-c18e-48c5-a3de-b8fc0d23e44e",
   "metadata": {
    "scrolled": true
   },
   "outputs": [],
   "source": [
    "num_epoch = 300\n",
    "currentLoader = circleLoader\n",
    "\n",
    "loss_list = np.zeros(num_epoch)\n",
    "\n",
    "for epoch in range(num_epoch):\n",
    "    running_loss = 0.0\n",
    "\n",
    "    count = 0\n",
    "    for i, data in enumerate(currentLoader, 0):\n",
    "        inputs, labels = data\n",
    "\n",
    "        # zero the parameter gradients\n",
    "        circleNetMod.optimizer.zero_grad()\n",
    "\n",
    "        batch_loss = circleNetMod.train_step(inputs, labels)\n",
    "        running_loss += batch_loss\n",
    "\n",
    "        # if i % 3 == 2:    # print every 2000 mini-batches\n",
    "            # print(f'[{epoch + 1}, {i + 1:5d}] loss: {running_loss / 2000:.3f}')\n",
    "            # running_loss = 0.0\n",
    "        count = count + 1\n",
    "    # plot here\n",
    "    \n",
    "    tran_circle = np.zeros((num, 3), dtype=np.float32)\n",
    "    tran_circle[:, 2] = circle[:, 2]\n",
    "    \n",
    "    circleNetVis = copy.deepcopy(circleNetMod)\n",
    "    circleNetVis.eval()\n",
    "    count = 0\n",
    "    for data in circleFixLoader:\n",
    "        data_j, label_j = data\n",
    "\n",
    "        new_fea, prob = circleNetVis(data_j)\n",
    "\n",
    "        #print(\"new feature: \", new_fea, label_j)\n",
    "\n",
    "        # new_feature to numpy\n",
    "        tran_circle[count, 0] = new_fea[0, 0].item()\n",
    "        tran_circle[count, 1] = new_fea[0, 1].item()\n",
    "\n",
    "        count += 1\n",
    "\n",
    "\n",
    "    if epoch % 20 == 19:    # print every 2000 mini-batches\n",
    "        # get plane\n",
    "        hyper_plane = circleNetMod.linear\n",
    "        weight = hyper_plane.weight.cpu().detach().numpy()\n",
    "        weight = weight[0]\n",
    "        bias = hyper_plane.bias.cpu().detach().numpy()\n",
    "        a, b, if_vertical = w2plane(weight, bias)\n",
    "        \n",
    "    \n",
    "        \n",
    "    \n",
    "        # plot\n",
    "        inside_tran_circle = tran_circle[tran_circle[:, 2] == 1]\n",
    "        outside_tran_circle = tran_circle[tran_circle[:, 2] == 0]\n",
    "    \n",
    "        if if_vertical:\n",
    "            plot_play_data(inside_tran_circle, outside_tran_circle)\n",
    "        else:\n",
    "            plot_play_data(inside_tran_circle, outside_tran_circle, predict=True, hy_plane=[a, b])\n",
    "             \n",
    "    \n",
    "        print(\"hyper plane: \", a, b, if_vertical)\n",
    "        print(f'[{epoch + 1}] loss: {running_loss / count:.3f}')\n",
    "    \n",
    "    loss_list[epoch] = running_loss / count\n",
    "\n",
    "for j in range(num_epoch):\n",
    "    print(f'[{j + 1}] loss: {loss_list[j]:.3f}')\n",
    "\n",
    "print('Finished Training')\n",
    "\n"
   ]
  },
  {
   "cell_type": "code",
   "execution_count": null,
   "id": "2a9d8eb3-50a5-46dc-9cc6-84d005a09273",
   "metadata": {},
   "outputs": [],
   "source": [
    "circleNetMod.eval()\n",
    "\n",
    "for data in circleFixLoader:\n",
    "    data_i, label_i = data\n",
    "\n",
    "    new_feat, prob = circleNetMod(data_i)\n",
    "    prob = prob.item()\n",
    "    pred_cls = final_class(prob)\n",
    "    print(data_i, label_i, pred_cls, prob)"
   ]
  },
  {
   "cell_type": "code",
   "execution_count": null,
   "id": "c45e9249-d5e7-42b7-a36c-1a2c14433a6d",
   "metadata": {},
   "outputs": [],
   "source": []
  },
  {
   "cell_type": "code",
   "execution_count": null,
   "id": "c82c2b3b-c823-4c0b-a482-4172f1049676",
   "metadata": {},
   "outputs": [],
   "source": []
  },
  {
   "cell_type": "code",
   "execution_count": null,
   "id": "a560b630-1e63-4d62-b39e-41c41609753a",
   "metadata": {},
   "outputs": [],
   "source": []
  },
  {
   "cell_type": "code",
   "execution_count": null,
   "id": "8affefab-3297-468d-9514-4259aeb3b00d",
   "metadata": {},
   "outputs": [],
   "source": []
  },
  {
   "cell_type": "markdown",
   "id": "e1fbb151-4316-472b-8326-22bf3280f0ea",
   "metadata": {},
   "source": [
    "### references\n",
    "### * tensorflow playground\n",
    "### https://playground.tensorflow.org/#activation=tanh&batchSize=10&dataset=circle&regDataset=reg-plane&learningRate=0.03&regularizationRate=0&noise=0&networkShape=4,2&seed=0.60721&showTestData=false&discretize=false&percTrainData=50&x=true&y=true&xTimesY=false&xSquared=false&ySquared=false&cosX=false&sinX=false&cosY=false&sinY=false&collectStats=false&problem=classification&initZero=false&hideText=false\n",
    "\n",
    "### * github of playground\n",
    "### https://github.com/tensorflow/playground"
   ]
  }
 ],
 "metadata": {
  "kernelspec": {
   "display_name": "Python 3 (ipykernel)",
   "language": "python",
   "name": "python3"
  },
  "language_info": {
   "codemirror_mode": {
    "name": "ipython",
    "version": 3
   },
   "file_extension": ".py",
   "mimetype": "text/x-python",
   "name": "python",
   "nbconvert_exporter": "python",
   "pygments_lexer": "ipython3",
   "version": "3.10.16"
  }
 },
 "nbformat": 4,
 "nbformat_minor": 5
}
