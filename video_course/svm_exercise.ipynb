{
 "cells": [
  {
   "cell_type": "code",
   "execution_count": null,
   "id": "449d0d55-c217-424d-abc9-bbbda61cbf53",
   "metadata": {},
   "outputs": [],
   "source": [
    "%load_ext autoreload\n",
    "%autoreload 2"
   ]
  },
  {
   "cell_type": "code",
   "execution_count": null,
   "id": "a790fe46-f51b-4ee4-a958-a49510f20dc7",
   "metadata": {},
   "outputs": [],
   "source": [
    "import numpy as np\n",
    "import torch\n",
    "import torch.nn as nn\n",
    "from torch.utils.data import Dataset\n",
    "from torch.utils.data import DataLoader\n",
    "import torch.optim as optim\n",
    "from sklearn.datasets import make_blobs"
   ]
  },
  {
   "cell_type": "code",
   "execution_count": null,
   "id": "5ecd237f-4c22-4b4c-99ef-16ac616542f2",
   "metadata": {},
   "outputs": [],
   "source": [
    "from torchsummary import summary\n",
    "import matplotlib.pyplot as plt"
   ]
  },
  {
   "cell_type": "code",
   "execution_count": null,
   "id": "9da5d5ce-3837-4495-a4ff-58c9309ebdb8",
   "metadata": {},
   "outputs": [],
   "source": [
    "import seaborn as sns\n",
    "sns.set()"
   ]
  },
  {
   "cell_type": "code",
   "execution_count": null,
   "id": "998d1028-da31-42a1-9378-f88480ce811c",
   "metadata": {},
   "outputs": [],
   "source": [
    "!git clone https://github.com/KuoYuChang/MLDL_video_course.git\n",
    "%cd MLDL_video_course"
   ]
  },
  {
   "cell_type": "code",
   "execution_count": null,
   "id": "dbe0728e-39e4-4777-973c-60a0d1644c23",
   "metadata": {},
   "outputs": [],
   "source": [
    "from utils.plot_tools import plot_dataset"
   ]
  },
  {
   "cell_type": "markdown",
   "id": "00a41032-4fbe-4173-bc82-ab45e0e257ca",
   "metadata": {},
   "source": [
    "### create dataset"
   ]
  },
  {
   "cell_type": "code",
   "execution_count": null,
   "id": "cf256742-eab2-486e-a455-813f0fb1873c",
   "metadata": {},
   "outputs": [],
   "source": [
    "X, Y = make_blobs(n_samples=500, centers=2, random_state=0, cluster_std=0.4)\n",
    "X = (X - X.mean()) / X.std()\n",
    "#X = X + 10\n",
    "Y[np.where(Y == 0)] = -1"
   ]
  },
  {
   "cell_type": "code",
   "execution_count": null,
   "id": "bc8976da-87df-4c88-bd02-9c81a391a298",
   "metadata": {},
   "outputs": [],
   "source": [
    "X.shape, Y.shape"
   ]
  },
  {
   "cell_type": "code",
   "execution_count": null,
   "id": "35651574-d057-4b09-906a-aecd35e73112",
   "metadata": {},
   "outputs": [],
   "source": [
    "X = X.astype(np.float32)\n",
    "Y = Y.astype(np.float32)"
   ]
  },
  {
   "cell_type": "code",
   "execution_count": null,
   "id": "6eac60a7-3009-413a-a79f-41e624fd0546",
   "metadata": {},
   "outputs": [],
   "source": [
    "plot_dataset(X, Y, size=20)"
   ]
  },
  {
   "cell_type": "code",
   "execution_count": null,
   "id": "62031c3c-fb3e-4d3d-bffc-570a52b00905",
   "metadata": {},
   "outputs": [],
   "source": [
    "# same dataset class af tensorflow playground\n",
    "from utils.dataset_torch import playDataset"
   ]
  },
  {
   "cell_type": "code",
   "execution_count": null,
   "id": "0e278ef4-aa4e-4120-9103-dabc741dd270",
   "metadata": {},
   "outputs": [],
   "source": [
    "batch_size = 16"
   ]
  },
  {
   "cell_type": "code",
   "execution_count": null,
   "id": "3b7b3a2c-28ee-4d70-8b45-9c0920bd1fd7",
   "metadata": {},
   "outputs": [],
   "source": [
    "blobData = playDataset(Y, X)\n",
    "blobLoader = DataLoader(blobData, batch_size=batch_size, shuffle=True)"
   ]
  },
  {
   "cell_type": "code",
   "execution_count": null,
   "id": "b818d1f6-51e3-4af6-a52a-6f80b76e2fe1",
   "metadata": {},
   "outputs": [],
   "source": [
    "dataiter = iter(blobLoader)\n",
    "print(next(dataiter))"
   ]
  },
  {
   "cell_type": "markdown",
   "id": "03b9ee33-484e-4bc8-a24a-4c1935399bf7",
   "metadata": {},
   "source": [
    "### Primal form"
   ]
  },
  {
   "cell_type": "code",
   "execution_count": null,
   "id": "189ef644-5e79-4037-9c7c-d5fdc914c7cb",
   "metadata": {},
   "outputs": [],
   "source": [
    "class SvmPrimal(nn.Module):\n",
    "    def __init__(self, c=100, lr=0.001):\n",
    "        super().__init__()\n",
    "\n",
    "        self.c = c\n",
    "        self.linear = nn.Linear(2, 1)\n",
    "        \n",
    "        \n",
    "        # define loss, optimizer\n",
    "        self.optimizer = optim.SGD(self.parameters(), lr=lr, momentum=0.9)\n",
    "\n",
    "    def forward(self, x):\n",
    "        x = self.linear(x)\n",
    "        return x\n",
    "\n",
    "    def get_loss(self, labels, predict, weight):\n",
    "        \n",
    "\n",
    "        return loss\n",
    "\n",
    "    def train_step(self, inputs, labels):\n",
    "        output = self(inputs)\n",
    "        output = output.squeeze()\n",
    "\n",
    "        weight = self.linear.weight.squeeze()\n",
    "\n",
    "        input_loss = self.get_loss(labels, output, weight)\n",
    "\n",
    "        input_loss.backward()\n",
    "\n",
    "        self.optimizer.step()\n",
    "\n",
    "        return input_loss.item()"
   ]
  },
  {
   "cell_type": "code",
   "execution_count": null,
   "id": "84beac30-c72f-4bd6-bc6d-098d273e757a",
   "metadata": {},
   "outputs": [],
   "source": [
    "linear_svm = SvmPrimal(c=400)"
   ]
  },
  {
   "cell_type": "code",
   "execution_count": null,
   "id": "8221f03e-3728-49b3-83ea-4c16c661ac1e",
   "metadata": {},
   "outputs": [],
   "source": [
    "print(summary(linear_svm, input_size=(2,)))"
   ]
  },
  {
   "cell_type": "code",
   "execution_count": null,
   "id": "7749d1ac-4e75-46e1-88e5-f231782948b4",
   "metadata": {},
   "outputs": [],
   "source": [
    "# training\n",
    "\n",
    "num_epoch = 1000\n",
    "currentLoader = blobLoader\n",
    "\n",
    "for epoch in range(num_epoch):\n",
    "    running_loss = 0.0\n",
    "\n",
    "    count = 0\n",
    "    for i, data in enumerate(currentLoader, 0):\n",
    "        inputs, labels = data\n",
    "\n",
    "        # zero the parameter gradients\n",
    "        linear_svm.optimizer.zero_grad()\n",
    "\n",
    "        batch_loss = linear_svm.train_step(inputs, labels)\n",
    "        running_loss += batch_loss\n",
    "\n",
    "        count = count + 1\n",
    "        \n",
    "    if epoch % 50 == 49:    # print every 2000 mini-batches\n",
    "        #print(\"count: \", count)\n",
    "        print(f'[{epoch + 1}] loss: {running_loss / count:.3f}')\n",
    "        running_loss = 0.0\n",
    "print('Finished Training')"
   ]
  },
  {
   "cell_type": "code",
   "execution_count": null,
   "id": "bef27ed2-c9b7-4e38-9e9d-43a55622c9a9",
   "metadata": {},
   "outputs": [],
   "source": [
    "from utils.plot_tools import plot_model_contour"
   ]
  },
  {
   "cell_type": "code",
   "execution_count": null,
   "id": "5f2d8d12-3dad-4289-bcd9-3a0dd59350fd",
   "metadata": {},
   "outputs": [],
   "source": [
    "plot_model_contour(linear_svm, X, Y, x_min=-2, x_max=2, size=20)"
   ]
  },
  {
   "cell_type": "code",
   "execution_count": null,
   "id": "2244320f-9e14-4ec4-ac34-13afa9dd44b2",
   "metadata": {},
   "outputs": [],
   "source": []
  },
  {
   "cell_type": "markdown",
   "id": "04e51a05-2be1-4ee6-8863-465383765917",
   "metadata": {},
   "source": [
    "### reference\n",
    "### https://github.com/kazuto1011/svm-pytorch?tab=readme-ov-file"
   ]
  },
  {
   "cell_type": "markdown",
   "id": "71d46c07-eb8c-4073-9253-2efb3ec49e8c",
   "metadata": {
    "id": "b39fbbc4"
   },
   "source": [
    "### references\n",
    "### https://gist.github.com/mlaves/c98cd4e6bcb9dbd4d0c03b34bacb0f65\n",
    "### https://gist.github.com/mlaves\n",
    "### https://github.com/adeveloperdiary/blog/blob/master/SVM/NonLinearSVM_DualProblem.py\n",
    "### https://github.com/adeveloperdiary/blog/tree/master"
   ]
  }
 ],
 "metadata": {
  "kernelspec": {
   "display_name": "Python 3 (ipykernel)",
   "language": "python",
   "name": "python3"
  },
  "language_info": {
   "codemirror_mode": {
    "name": "ipython",
    "version": 3
   },
   "file_extension": ".py",
   "mimetype": "text/x-python",
   "name": "python",
   "nbconvert_exporter": "python",
   "pygments_lexer": "ipython3",
   "version": "3.10.16"
  }
 },
 "nbformat": 4,
 "nbformat_minor": 5
}
