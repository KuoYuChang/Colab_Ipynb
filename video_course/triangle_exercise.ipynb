{
 "cells": [
  {
   "cell_type": "code",
   "execution_count": 1,
   "id": "83f8dedd-2316-491e-81cc-4839e569e98c",
   "metadata": {},
   "outputs": [],
   "source": [
    "import torch\n",
    "import torch.nn as nn\n",
    "import numpy as np"
   ]
  },
  {
   "cell_type": "code",
   "execution_count": 2,
   "id": "5956e427-a7cd-4ebe-bc12-d6e65d0da22c",
   "metadata": {},
   "outputs": [],
   "source": [
    "class TrianType(nn.Module):\n",
    "    def __init__(self):\n",
    "        super(TrianType, self).__init__()\n",
    "        \n",
    "        \n",
    "\n",
    "    def forward(self, a, b):\n",
    "        \n",
    "\n",
    "        return obtuse_trian_prob\n",
    "        "
   ]
  },
  {
   "cell_type": "code",
   "execution_count": 3,
   "id": "673d0a22-bd7e-432a-9ffa-16654060f722",
   "metadata": {},
   "outputs": [],
   "source": [
    "trianType = TrianType()"
   ]
  },
  {
   "cell_type": "code",
   "execution_count": 4,
   "id": "03b11bb6-5f44-4048-87ec-26cfbf141aea",
   "metadata": {},
   "outputs": [
    {
     "name": "stdout",
     "output_type": "stream",
     "text": [
      "angle list:  tensor([-1.5000, -0.5000, -0.7500])\n",
      "probability of obtuse traingle:  tensor(0.3775)\n"
     ]
    }
   ],
   "source": [
    "a = torch.tensor([1, 1]).float()\n",
    "b = torch.tensor([1.5, 0]).float()\n",
    "\n",
    "prob = trianType(a, b)\n",
    "print(\"probability of obtuse traingle: \", prob)"
   ]
  },
  {
   "cell_type": "code",
   "execution_count": 14,
   "id": "ce76cfc5-783f-4a1e-9644-59b50681d079",
   "metadata": {},
   "outputs": [
    {
     "name": "stdout",
     "output_type": "stream",
     "text": [
      "angle list:  tensor([ -9.,   4., -17.])\n",
      "probability of obtuse traingle:  tensor(0.9820)\n"
     ]
    }
   ],
   "source": [
    "a = torch.tensor([2, 1]).float()\n",
    "b = torch.tensor([5, -1]).float()\n",
    "\n",
    "prob = trianType(a, b)\n",
    "print(\"probability of obtuse traingle: \", prob)"
   ]
  },
  {
   "cell_type": "code",
   "execution_count": null,
   "id": "1f2d7e74-5078-4d11-bdbf-ae23161670f6",
   "metadata": {},
   "outputs": [],
   "source": []
  }
 ],
 "metadata": {
  "kernelspec": {
   "display_name": "Python 3 (ipykernel)",
   "language": "python",
   "name": "python3"
  },
  "language_info": {
   "codemirror_mode": {
    "name": "ipython",
    "version": 3
   },
   "file_extension": ".py",
   "mimetype": "text/x-python",
   "name": "python",
   "nbconvert_exporter": "python",
   "pygments_lexer": "ipython3",
   "version": "3.10.16"
  }
 },
 "nbformat": 4,
 "nbformat_minor": 5
}
